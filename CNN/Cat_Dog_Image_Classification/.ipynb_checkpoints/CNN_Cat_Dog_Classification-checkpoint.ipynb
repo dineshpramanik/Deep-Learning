{
 "cells": [
  {
   "cell_type": "code",
   "execution_count": 1,
   "metadata": {
    "colab": {
     "base_uri": "https://localhost:8080/",
     "height": 34
    },
    "colab_type": "code",
    "id": "OfCRU7ESINlq",
    "outputId": "c582779a-79b4-419c-faf3-2bace70e1ac9"
   },
   "outputs": [
    {
     "name": "stdout",
     "output_type": "stream",
     "text": [
      "Drive already mounted at /content/drive; to attempt to forcibly remount, call drive.mount(\"/content/drive\", force_remount=True).\n"
     ]
    }
   ],
   "source": [
    "#Get access Google Drive data into Google Colab\n",
    "\n",
    "from google.colab import drive\n",
    "drive.mount('/content/drive')"
   ]
  },
  {
   "cell_type": "code",
   "execution_count": 5,
   "metadata": {
    "colab": {
     "base_uri": "https://localhost:8080/",
     "height": 34
    },
    "colab_type": "code",
    "id": "DQjjv-RNKo-N",
    "outputId": "f9964e92-21bc-4bd9-a85f-aff25b4d38c4"
   },
   "outputs": [
    {
     "name": "stdout",
     "output_type": "stream",
     "text": [
      "Finish\n"
     ]
    }
   ],
   "source": [
    "from zipfile import ZipFile\n",
    "file_name = \"/content/drive/My Drive/Colab Notebooks/dataset.zip\"\n",
    "\n",
    "with ZipFile(file_name, 'r') as zip:\n",
    "  zip.extractall()\n",
    "  print('Finish')"
   ]
  },
  {
   "cell_type": "code",
   "execution_count": 0,
   "metadata": {
    "colab": {},
    "colab_type": "code",
    "id": "nqO4sPpMKbH-"
   },
   "outputs": [],
   "source": [
    "!pip install -q keras"
   ]
  },
  {
   "cell_type": "code",
   "execution_count": 9,
   "metadata": {
    "colab": {
     "base_uri": "https://localhost:8080/",
     "height": 104
    },
    "colab_type": "code",
    "id": "IXuTF52IQE2l",
    "outputId": "81a73714-2654-4210-d815-c1151c2d7616"
   },
   "outputs": [
    {
     "name": "stderr",
     "output_type": "stream",
     "text": [
      "/usr/local/lib/python3.6/dist-packages/ipykernel_launcher.py:8: UserWarning: Update your `Conv2D` call to the Keras 2 API: `Conv2D(32, (3, 3), input_shape=(64, 64, 3..., activation=\"relu\")`\n",
      "  \n",
      "/usr/local/lib/python3.6/dist-packages/ipykernel_launcher.py:14: UserWarning: Update your `Conv2D` call to the Keras 2 API: `Conv2D(16, (3, 3), activation=\"relu\")`\n",
      "  \n"
     ]
    }
   ],
   "source": [
    "#Importing neccessary libraries\n",
    "\n",
    "from keras.models import Sequential\n",
    "from keras.layers import Conv2D, MaxPooling2D, Flatten, Dense\n",
    "\n",
    "#Initialising the CNN \n",
    "CNN_classifier = Sequential()\n",
    "\n",
    "#Step 1: Convolution : Here we are learning a total of 32 filters with kernel size of 3*3 \n",
    "CNN_classifier.add(Conv2D(32, kernel_size=(3,3), input_shape= (64,64,3), activation='relu'))\n",
    "\n",
    "#Step 2: MaxPooling: To reduce the spatial dimensions of the output volume.\n",
    "CNN_classifier.add(MaxPooling2D(pool_size=(2,2)))\n",
    "\n",
    "#Second Convolutional layer with 16 filters nd kernel size of 3*3\n",
    "CNN_classifier.add(Conv2D(16, kernel_size=(3,3), activation='relu'))\n",
    "\n",
    "#Step 3: Flattening\n",
    "CNN_classifier.add(Flatten())\n",
    "\n",
    "#Step 4: Full connection\n",
    "CNN_classifier.add(Dense(units= 128, activation='relu'))\n",
    "CNN_classifier.add(Dense(units= 1, activation='sigmoid'))\n",
    "\n",
    "#Compiling the CNN\n",
    "CNN_classifier.compile(optimizer= 'adam', loss='binary_crossentropy', metrics=['accuracy'])"
   ]
  },
  {
   "cell_type": "raw",
   "metadata": {},
   "source": [
    "#Image data augmentation is a technique that can be used to artificially expand the size of a training dataset by creating modified versions of images in the dataset. ... The Keras deep learning neural network library provides the capability to fit models using image data augmentation via the ImageDataGenerator class."
   ]
  },
  {
   "cell_type": "code",
   "execution_count": 10,
   "metadata": {
    "colab": {
     "base_uri": "https://localhost:8080/",
     "height": 403
    },
    "colab_type": "code",
    "id": "D7uZ1_2KRlnW",
    "outputId": "27e51a17-4860-4694-cf48-60091aa5da8e"
   },
   "outputs": [
    {
     "name": "stdout",
     "output_type": "stream",
     "text": [
      "Found 8000 images belonging to 2 classes.\n",
      "Found 2000 images belonging to 2 classes.\n",
      "Epoch 1/10\n",
      "7000/7000 [==============================] - 899s 128ms/step - loss: 0.4012 - accuracy: 0.8070 - val_loss: 0.8908 - val_accuracy: 0.7650\n",
      "Epoch 2/10\n",
      "7000/7000 [==============================] - 903s 129ms/step - loss: 0.1320 - accuracy: 0.9492 - val_loss: 0.6983 - val_accuracy: 0.7736\n",
      "Epoch 3/10\n",
      "7000/7000 [==============================] - 913s 130ms/step - loss: 0.0680 - accuracy: 0.9760 - val_loss: 1.1452 - val_accuracy: 0.7845\n",
      "Epoch 4/10\n",
      "7000/7000 [==============================] - 900s 129ms/step - loss: 0.0488 - accuracy: 0.9830 - val_loss: 0.9425 - val_accuracy: 0.7685\n",
      "Epoch 5/10\n",
      "7000/7000 [==============================] - 873s 125ms/step - loss: 0.0384 - accuracy: 0.9871 - val_loss: 1.1910 - val_accuracy: 0.7610\n",
      "Epoch 6/10\n",
      "7000/7000 [==============================] - 845s 121ms/step - loss: 0.0318 - accuracy: 0.9893 - val_loss: 1.5628 - val_accuracy: 0.7651\n",
      "Epoch 7/10\n",
      "7000/7000 [==============================] - 847s 121ms/step - loss: 0.0275 - accuracy: 0.9910 - val_loss: 2.9870 - val_accuracy: 0.7786\n",
      "Epoch 8/10\n",
      "7000/7000 [==============================] - 847s 121ms/step - loss: 0.0238 - accuracy: 0.9922 - val_loss: 2.0354 - val_accuracy: 0.7742\n",
      "Epoch 9/10\n",
      "7000/7000 [==============================] - 860s 123ms/step - loss: 0.0223 - accuracy: 0.9928 - val_loss: 1.7888 - val_accuracy: 0.7727\n",
      "Epoch 10/10\n",
      "7000/7000 [==============================] - 851s 122ms/step - loss: 0.0194 - accuracy: 0.9938 - val_loss: 1.8825 - val_accuracy: 0.7813\n"
     ]
    },
    {
     "data": {
      "text/plain": [
       "<keras.callbacks.callbacks.History at 0x7f9f46408630>"
      ]
     },
     "execution_count": 10,
     "metadata": {
      "tags": []
     },
     "output_type": "execute_result"
    }
   ],
   "source": [
    "\n",
    "from keras.preprocessing.image import ImageDataGenerator\n",
    "\n",
    "train_datagen = ImageDataGenerator(rescale=1./255, \n",
    "                                   shear_range=0.2, \n",
    "                                   zoom_range=0.2,\n",
    "                                   horizontal_flip=True)\n",
    "\n",
    "test_datagen = ImageDataGenerator(rescale=1./255)\n",
    "\n",
    "training_set = train_datagen.flow_from_directory('/content/dataset/training_set',\n",
    "                                                 target_size=(64, 64),\n",
    "                                                 batch_size=32,\n",
    "                                                 class_mode='binary')\n",
    "\n",
    "test_set = test_datagen.flow_from_directory('/content/dataset/test_set',\n",
    "                                            target_size=(64, 64),\n",
    "                                            batch_size=32,\n",
    "                                            class_mode='binary')\n",
    "\n",
    "CNN_classifier.fit_generator(training_set,\n",
    "                             steps_per_epoch=7000,\n",
    "                             epochs=10,\n",
    "                             validation_data=test_set,\n",
    "                             validation_steps=2000)"
   ]
  },
  {
   "cell_type": "code",
   "execution_count": 12,
   "metadata": {
    "colab": {
     "base_uri": "https://localhost:8080/",
     "height": 34
    },
    "colab_type": "code",
    "id": "-e3GJNv9XUHs",
    "outputId": "e9de1bc1-643e-4241-9cb0-b737acd8981b"
   },
   "outputs": [
    {
     "name": "stdout",
     "output_type": "stream",
     "text": [
      "dog\n"
     ]
    }
   ],
   "source": [
    "#Prediction for Dog  image using train model\n",
    "\n",
    "import numpy as np\n",
    "from keras.preprocessing import image\n",
    "\n",
    "test_image = image.load_img('/content/dataset/single_prediction/cat_or_dog_1.jpg', target_size= (64,64))\n",
    "test_image = image.img_to_array(test_image)\n",
    "test_image = np.expand_dims(test_image, axis=0)\n",
    "result= CNN_classifier.predict(test_image)\n",
    "\n",
    "if result[0][0] == 1:\n",
    "  prediction = 'dog'\n",
    "  print(prediction)\n",
    "\n",
    "else:\n",
    "  prediction = 'cat'\n",
    "  print(prediction)"
   ]
  },
  {
   "cell_type": "code",
   "execution_count": 14,
   "metadata": {
    "colab": {
     "base_uri": "https://localhost:8080/",
     "height": 34
    },
    "colab_type": "code",
    "id": "9OExQ0V34ma5",
    "outputId": "fac788a8-ab3a-49ab-837c-1c8fefc134c0"
   },
   "outputs": [
    {
     "name": "stdout",
     "output_type": "stream",
     "text": [
      "cat\n"
     ]
    }
   ],
   "source": [
    "#Prediction for Cat image using train model\n",
    "\n",
    "import numpy as np\n",
    "from keras.preprocessing import image\n",
    "\n",
    "test_image = image.load_img('/content/dataset/single_prediction/cat_or_dog_2.jpg', target_size= (64,64))\n",
    "test_image = image.img_to_array(test_image)\n",
    "test_image = np.expand_dims(test_image, axis=0)\n",
    "result= CNN_classifier.predict(test_image)\n",
    "\n",
    "if result[0][0] == 1:\n",
    "  prediction = 'cat'\n",
    "  print(prediction)\n",
    "\n",
    "else:\n",
    "  prediction = 'dog'\n",
    "  print(prediction)"
   ]
  },
  {
   "cell_type": "code",
   "execution_count": 0,
   "metadata": {
    "colab": {},
    "colab_type": "code",
    "id": "VPMe-K7Y4yDC"
   },
   "outputs": [],
   "source": []
  }
 ],
 "metadata": {
  "accelerator": "GPU",
  "colab": {
   "name": "CNN_Cat-Dog_Classification.ipynb",
   "provenance": []
  },
  "kernelspec": {
   "display_name": "Python 3",
   "language": "python",
   "name": "python3"
  },
  "language_info": {
   "codemirror_mode": {
    "name": "ipython",
    "version": 3
   },
   "file_extension": ".py",
   "mimetype": "text/x-python",
   "name": "python",
   "nbconvert_exporter": "python",
   "pygments_lexer": "ipython3",
   "version": "3.7.2"
  }
 },
 "nbformat": 4,
 "nbformat_minor": 1
}
