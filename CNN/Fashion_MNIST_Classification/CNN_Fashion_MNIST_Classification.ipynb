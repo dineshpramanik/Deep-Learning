{
  "nbformat": 4,
  "nbformat_minor": 0,
  "metadata": {
    "colab": {
      "name": "CNN Fashion MNIST Classification .ipynb",
      "provenance": [],
      "collapsed_sections": []
    },
    "kernelspec": {
      "name": "python3",
      "display_name": "Python 3"
    },
    "accelerator": "GPU"
  },
  "cells": [
    {
      "cell_type": "markdown",
      "metadata": {
        "id": "KcHuXhc57oGF",
        "colab_type": "text"
      },
      "source": [
        "# **Import Libraries**"
      ]
    },
    {
      "cell_type": "code",
      "metadata": {
        "id": "ggFqwHIX7eaX",
        "colab_type": "code",
        "colab": {
          "base_uri": "https://localhost:8080/",
          "height": 87
        },
        "outputId": "5fe40670-104b-4b12-fad1-329ea0079145"
      },
      "source": [
        "import numpy as np\n",
        "import matplotlib.pyplot as plt\n",
        "import seaborn as sns\n",
        "import keras"
      ],
      "execution_count": 1,
      "outputs": [
        {
          "output_type": "stream",
          "text": [
            "/usr/local/lib/python3.6/dist-packages/statsmodels/tools/_testing.py:19: FutureWarning: pandas.util.testing is deprecated. Use the functions in the public API at pandas.testing instead.\n",
            "  import pandas.util.testing as tm\n",
            "Using TensorFlow backend.\n"
          ],
          "name": "stderr"
        }
      ]
    },
    {
      "cell_type": "markdown",
      "metadata": {
        "id": "Zq55a8ZF8WA1",
        "colab_type": "text"
      },
      "source": [
        "# **Load Dataset**"
      ]
    },
    {
      "cell_type": "code",
      "metadata": {
        "id": "TeQu_Ouj8Pjk",
        "colab_type": "code",
        "colab": {
          "base_uri": "https://localhost:8080/",
          "height": 151
        },
        "outputId": "81a9b24d-e6e4-44c8-eb18-e12a0d06c4fe"
      },
      "source": [
        "(X_train, y_train), (X_test, y_test) = keras.datasets.fashion_mnist.load_data()"
      ],
      "execution_count": 2,
      "outputs": [
        {
          "output_type": "stream",
          "text": [
            "Downloading data from http://fashion-mnist.s3-website.eu-central-1.amazonaws.com/train-labels-idx1-ubyte.gz\n",
            "32768/29515 [=================================] - 0s 8us/step\n",
            "Downloading data from http://fashion-mnist.s3-website.eu-central-1.amazonaws.com/train-images-idx3-ubyte.gz\n",
            "26427392/26421880 [==============================] - 4s 0us/step\n",
            "Downloading data from http://fashion-mnist.s3-website.eu-central-1.amazonaws.com/t10k-labels-idx1-ubyte.gz\n",
            "8192/5148 [===============================================] - 0s 0us/step\n",
            "Downloading data from http://fashion-mnist.s3-website.eu-central-1.amazonaws.com/t10k-images-idx3-ubyte.gz\n",
            "4423680/4422102 [==============================] - 2s 0us/step\n"
          ],
          "name": "stdout"
        }
      ]
    },
    {
      "cell_type": "code",
      "metadata": {
        "id": "BgQ3zQDO8xRo",
        "colab_type": "code",
        "colab": {
          "base_uri": "https://localhost:8080/",
          "height": 34
        },
        "outputId": "a39079cf-1df8-4f5b-b220-26004b6f3c91"
      },
      "source": [
        "X_train.shape, y_train.shape"
      ],
      "execution_count": 3,
      "outputs": [
        {
          "output_type": "execute_result",
          "data": {
            "text/plain": [
              "((60000, 28, 28), (60000,))"
            ]
          },
          "metadata": {
            "tags": []
          },
          "execution_count": 3
        }
      ]
    },
    {
      "cell_type": "code",
      "metadata": {
        "id": "vSH3serH82tM",
        "colab_type": "code",
        "colab": {
          "base_uri": "https://localhost:8080/",
          "height": 34
        },
        "outputId": "25fa6fff-ae2f-462b-e1b2-8955b8376947"
      },
      "source": [
        "X_test.shape, y_test.shape"
      ],
      "execution_count": 4,
      "outputs": [
        {
          "output_type": "execute_result",
          "data": {
            "text/plain": [
              "((10000, 28, 28), (10000,))"
            ]
          },
          "metadata": {
            "tags": []
          },
          "execution_count": 4
        }
      ]
    },
    {
      "cell_type": "code",
      "metadata": {
        "id": "sGvJmuCA8403",
        "colab_type": "code",
        "colab": {}
      },
      "source": [
        "#X_train[0]"
      ],
      "execution_count": 10,
      "outputs": []
    },
    {
      "cell_type": "code",
      "metadata": {
        "id": "xGq3jDPj9UkX",
        "colab_type": "code",
        "colab": {}
      },
      "source": [
        "#y_train[0]"
      ],
      "execution_count": 12,
      "outputs": []
    },
    {
      "cell_type": "code",
      "metadata": {
        "id": "OotV-E0j-KAc",
        "colab_type": "code",
        "colab": {
          "base_uri": "https://localhost:8080/",
          "height": 185
        },
        "outputId": "d11597dd-c37b-459b-8ecc-bb546b060840"
      },
      "source": [
        "class_labels = ['0: T-Shirt/Top', '1: Trouser', '2: Pullover', '3: Dress', '4: Coat', '5: Sandal', '6: Shirt', '7: Sneakers', '8: Bag', '9: Ankle Boot']\n",
        "class_labels"
      ],
      "execution_count": 5,
      "outputs": [
        {
          "output_type": "execute_result",
          "data": {
            "text/plain": [
              "['0: T-Shirt/Top',\n",
              " '1: Trouser',\n",
              " '2: Pullover',\n",
              " '3: Dress',\n",
              " '4: Coat',\n",
              " '5: Sandal',\n",
              " '6: Shirt',\n",
              " '7: Sneakers',\n",
              " '8: Bag',\n",
              " '9: Ankle Boot']"
            ]
          },
          "metadata": {
            "tags": []
          },
          "execution_count": 5
        }
      ]
    },
    {
      "cell_type": "markdown",
      "metadata": {
        "id": "7ePHw5Su_PIt",
        "colab_type": "text"
      },
      "source": [
        "**Show Image**"
      ]
    },
    {
      "cell_type": "code",
      "metadata": {
        "id": "unMEq5BT-3aW",
        "colab_type": "code",
        "colab": {
          "base_uri": "https://localhost:8080/",
          "height": 808
        },
        "outputId": "75d5b158-2729-4785-f784-5d871a81fe51"
      },
      "source": [
        "plt.figure(figsize=(14,14))\n",
        "for i in range(16):\n",
        "  plt.subplot(4,4,i+1)\n",
        "  plt.imshow(X_train[i], cmap='Greys')\n",
        "  plt.axis('off')\n",
        "  plt.title(class_labels[y_train[i]])"
      ],
      "execution_count": 6,
      "outputs": [
        {
          "output_type": "display_data",
          "data": {
            "image/png": "[encoded data removed]",
            "text/plain": [
              "<Figure size 1008x1008 with 16 Axes>"
            ]
          },
          "metadata": {
            "tags": [],
            "needs_background": "light"
          }
        }
      ]
    },
    {
      "cell_type": "markdown",
      "metadata": {
        "id": "sZarTD3KWqkU",
        "colab_type": "text"
      },
      "source": [
        "**Expand Dimension**"
      ]
    },
    {
      "cell_type": "code",
      "metadata": {
        "id": "2N9JJkHY_ZYe",
        "colab_type": "code",
        "colab": {}
      },
      "source": [
        "X_train = np.expand_dims(X_train, -1)\n",
        "X_test = np.expand_dims(X_test, -1)"
      ],
      "execution_count": 7,
      "outputs": []
    },
    {
      "cell_type": "code",
      "metadata": {
        "id": "o6LtsQSSXHgS",
        "colab_type": "code",
        "colab": {
          "base_uri": "https://localhost:8080/",
          "height": 34
        },
        "outputId": "629d9381-cd10-4af0-9e72-266c431fc05c"
      },
      "source": [
        "X_train.shape"
      ],
      "execution_count": 8,
      "outputs": [
        {
          "output_type": "execute_result",
          "data": {
            "text/plain": [
              "(60000, 28, 28, 1)"
            ]
          },
          "metadata": {
            "tags": []
          },
          "execution_count": 8
        }
      ]
    },
    {
      "cell_type": "code",
      "metadata": {
        "id": "HiLYroihXKLe",
        "colab_type": "code",
        "colab": {
          "base_uri": "https://localhost:8080/",
          "height": 34
        },
        "outputId": "72b4395d-32b2-4af7-db7d-bf0b2c044506"
      },
      "source": [
        "X_test.shape"
      ],
      "execution_count": 9,
      "outputs": [
        {
          "output_type": "execute_result",
          "data": {
            "text/plain": [
              "(10000, 28, 28, 1)"
            ]
          },
          "metadata": {
            "tags": []
          },
          "execution_count": 9
        }
      ]
    },
    {
      "cell_type": "markdown",
      "metadata": {
        "id": "ZICMsNS5XPGL",
        "colab_type": "text"
      },
      "source": [
        "**Feature Scaling**"
      ]
    },
    {
      "cell_type": "code",
      "metadata": {
        "id": "Jt94KxyqXMNd",
        "colab_type": "code",
        "colab": {}
      },
      "source": [
        "X_train = X_train / 255\n",
        "X_test = X_test / 255"
      ],
      "execution_count": 10,
      "outputs": []
    },
    {
      "cell_type": "code",
      "metadata": {
        "id": "AhVMW8L8XZx0",
        "colab_type": "code",
        "colab": {}
      },
      "source": [
        "#X_train[0]"
      ],
      "execution_count": 12,
      "outputs": []
    },
    {
      "cell_type": "markdown",
      "metadata": {
        "id": "otRuWsdGX4ZT",
        "colab_type": "text"
      },
      "source": [
        "**Split Dataset**"
      ]
    },
    {
      "cell_type": "code",
      "metadata": {
        "id": "Y-u49kjUXb3H",
        "colab_type": "code",
        "colab": {}
      },
      "source": [
        "from sklearn.model_selection import train_test_split"
      ],
      "execution_count": 11,
      "outputs": []
    },
    {
      "cell_type": "code",
      "metadata": {
        "id": "FVotSjEpYBPc",
        "colab_type": "code",
        "colab": {}
      },
      "source": [
        "X_train, X_val, y_train, y_val = train_test_split(X_train, y_train, test_size=0.2)"
      ],
      "execution_count": 12,
      "outputs": []
    },
    {
      "cell_type": "code",
      "metadata": {
        "id": "zxGTqiKoYg1u",
        "colab_type": "code",
        "colab": {
          "base_uri": "https://localhost:8080/",
          "height": 34
        },
        "outputId": "f660184f-403e-4055-f211-1ec876c37023"
      },
      "source": [
        "X_train.shape, y_train.shape"
      ],
      "execution_count": 13,
      "outputs": [
        {
          "output_type": "execute_result",
          "data": {
            "text/plain": [
              "((48000, 28, 28, 1), (48000,))"
            ]
          },
          "metadata": {
            "tags": []
          },
          "execution_count": 13
        }
      ]
    },
    {
      "cell_type": "code",
      "metadata": {
        "id": "RddvCpeQYlzR",
        "colab_type": "code",
        "colab": {
          "base_uri": "https://localhost:8080/",
          "height": 34
        },
        "outputId": "6d718ccf-4459-4a6d-aca3-b7e1461b361f"
      },
      "source": [
        "X_val.shape, y_val.shape"
      ],
      "execution_count": 14,
      "outputs": [
        {
          "output_type": "execute_result",
          "data": {
            "text/plain": [
              "((12000, 28, 28, 1), (12000,))"
            ]
          },
          "metadata": {
            "tags": []
          },
          "execution_count": 14
        }
      ]
    },
    {
      "cell_type": "code",
      "metadata": {
        "id": "8AoZ8uoIYpWV",
        "colab_type": "code",
        "colab": {}
      },
      "source": [
        ""
      ],
      "execution_count": null,
      "outputs": []
    },
    {
      "cell_type": "markdown",
      "metadata": {
        "id": "QjmqdswLYuac",
        "colab_type": "text"
      },
      "source": [
        "# Convolution Neural Network - Model building"
      ]
    },
    {
      "cell_type": "code",
      "metadata": {
        "id": "mCUFHrToY14M",
        "colab_type": "code",
        "colab": {}
      },
      "source": [
        "model = keras.models.Sequential([\n",
        "                         keras.layers.Conv2D(filters=32, kernel_size=3, strides=(1,1), padding='valid', activation='relu', input_shape=[28,28,1]),\n",
        "                         keras.layers.MaxPooling2D(pool_size=(2,2)),\n",
        "                         keras.layers.Flatten(),\n",
        "                         keras.layers.Dense(units=128, activation='relu'),\n",
        "                         keras.layers.Dense(units=10, activation='softmax')\n",
        "])"
      ],
      "execution_count": 17,
      "outputs": []
    },
    {
      "cell_type": "code",
      "metadata": {
        "id": "rxU8EPGVdBMO",
        "colab_type": "code",
        "colab": {
          "base_uri": "https://localhost:8080/",
          "height": 319
        },
        "outputId": "0d0675b9-5ca7-41d4-fb62-385b7c92853f"
      },
      "source": [
        "model.summary()"
      ],
      "execution_count": 18,
      "outputs": [
        {
          "output_type": "stream",
          "text": [
            "Model: \"sequential_2\"\n",
            "_________________________________________________________________\n",
            "Layer (type)                 Output Shape              Param #   \n",
            "=================================================================\n",
            "conv2d_2 (Conv2D)            (None, 26, 26, 32)        320       \n",
            "_________________________________________________________________\n",
            "max_pooling2d_2 (MaxPooling2 (None, 13, 13, 32)        0         \n",
            "_________________________________________________________________\n",
            "flatten_2 (Flatten)          (None, 5408)              0         \n",
            "_________________________________________________________________\n",
            "dense_3 (Dense)              (None, 128)               692352    \n",
            "_________________________________________________________________\n",
            "dense_4 (Dense)              (None, 10)                1290      \n",
            "=================================================================\n",
            "Total params: 693,962\n",
            "Trainable params: 693,962\n",
            "Non-trainable params: 0\n",
            "_________________________________________________________________\n"
          ],
          "name": "stdout"
        }
      ]
    },
    {
      "cell_type": "markdown",
      "metadata": {
        "id": "88RjIl1bdr5i",
        "colab_type": "text"
      },
      "source": [
        "**Compile the Model**"
      ]
    },
    {
      "cell_type": "code",
      "metadata": {
        "id": "ESFXEvOpdHJB",
        "colab_type": "code",
        "colab": {}
      },
      "source": [
        "model.compile(optimizer='adam', loss='sparse_categorical_crossentropy', metrics=['accuracy'])"
      ],
      "execution_count": 19,
      "outputs": []
    },
    {
      "cell_type": "markdown",
      "metadata": {
        "id": "6hsScNN4dwhY",
        "colab_type": "text"
      },
      "source": [
        "**Train the Model**"
      ]
    },
    {
      "cell_type": "code",
      "metadata": {
        "id": "cioOrlRSdpts",
        "colab_type": "code",
        "colab": {
          "base_uri": "https://localhost:8080/",
          "height": 386
        },
        "outputId": "1ef9282f-59e4-4729-b2b8-b7e07210fae2"
      },
      "source": [
        "model.fit(X_train, y_train, epochs=10, batch_size=1000, verbose=1, validation_data=(X_val, y_val))"
      ],
      "execution_count": 20,
      "outputs": [
        {
          "output_type": "stream",
          "text": [
            "Train on 48000 samples, validate on 12000 samples\n",
            "Epoch 1/10\n",
            "48000/48000 [==============================] - 7s 148us/step - loss: 0.8006 - accuracy: 0.7453 - val_loss: 0.4756 - val_accuracy: 0.8347\n",
            "Epoch 2/10\n",
            "48000/48000 [==============================] - 1s 26us/step - loss: 0.4251 - accuracy: 0.8522 - val_loss: 0.3922 - val_accuracy: 0.8628\n",
            "Epoch 3/10\n",
            "48000/48000 [==============================] - 1s 25us/step - loss: 0.3708 - accuracy: 0.8723 - val_loss: 0.3588 - val_accuracy: 0.8736\n",
            "Epoch 4/10\n",
            "48000/48000 [==============================] - 1s 26us/step - loss: 0.3474 - accuracy: 0.8788 - val_loss: 0.3321 - val_accuracy: 0.8830\n",
            "Epoch 5/10\n",
            "48000/48000 [==============================] - 1s 26us/step - loss: 0.3168 - accuracy: 0.8900 - val_loss: 0.3188 - val_accuracy: 0.8892\n",
            "Epoch 6/10\n",
            "48000/48000 [==============================] - 1s 26us/step - loss: 0.3068 - accuracy: 0.8926 - val_loss: 0.3055 - val_accuracy: 0.8926\n",
            "Epoch 7/10\n",
            "48000/48000 [==============================] - 1s 26us/step - loss: 0.2885 - accuracy: 0.8984 - val_loss: 0.2991 - val_accuracy: 0.8947\n",
            "Epoch 8/10\n",
            "48000/48000 [==============================] - 1s 26us/step - loss: 0.2796 - accuracy: 0.9008 - val_loss: 0.2932 - val_accuracy: 0.8957\n",
            "Epoch 9/10\n",
            "48000/48000 [==============================] - 1s 26us/step - loss: 0.2691 - accuracy: 0.9045 - val_loss: 0.2868 - val_accuracy: 0.8988\n",
            "Epoch 10/10\n",
            "48000/48000 [==============================] - 1s 25us/step - loss: 0.2615 - accuracy: 0.9082 - val_loss: 0.2785 - val_accuracy: 0.9029\n"
          ],
          "name": "stdout"
        },
        {
          "output_type": "execute_result",
          "data": {
            "text/plain": [
              "<keras.callbacks.callbacks.History at 0x7f52bfd54cf8>"
            ]
          },
          "metadata": {
            "tags": []
          },
          "execution_count": 20
        }
      ]
    },
    {
      "cell_type": "markdown",
      "metadata": {
        "id": "BbYa6wrHgjRz",
        "colab_type": "text"
      },
      "source": [
        "**Test the Model**"
      ]
    },
    {
      "cell_type": "code",
      "metadata": {
        "id": "UNTYM5w4etbW",
        "colab_type": "code",
        "colab": {
          "base_uri": "https://localhost:8080/",
          "height": 34
        },
        "outputId": "5e7649ef-cd68-4323-ee0b-5fe68dd6b82d"
      },
      "source": [
        "np.argmax(model.predict(np.expand_dims(X_test[0], axis=0)).round(2))"
      ],
      "execution_count": 21,
      "outputs": [
        {
          "output_type": "execute_result",
          "data": {
            "text/plain": [
              "9"
            ]
          },
          "metadata": {
            "tags": []
          },
          "execution_count": 21
        }
      ]
    },
    {
      "cell_type": "code",
      "metadata": {
        "id": "0vtv9SmdhhPV",
        "colab_type": "code",
        "colab": {
          "base_uri": "https://localhost:8080/",
          "height": 34
        },
        "outputId": "881dbf84-a5f4-4054-a9c3-a9c527cd7094"
      },
      "source": [
        "y_test[0]"
      ],
      "execution_count": 22,
      "outputs": [
        {
          "output_type": "execute_result",
          "data": {
            "text/plain": [
              "9"
            ]
          },
          "metadata": {
            "tags": []
          },
          "execution_count": 22
        }
      ]
    },
    {
      "cell_type": "code",
      "metadata": {
        "id": "DKGm7FrAh63j",
        "colab_type": "code",
        "colab": {}
      },
      "source": [
        "y_pred = model.predict(X_test).round(2)"
      ],
      "execution_count": 23,
      "outputs": []
    },
    {
      "cell_type": "markdown",
      "metadata": {
        "id": "Wh86XNEgiWPK",
        "colab_type": "text"
      },
      "source": [
        "**Evaluate the Model on Test data**"
      ]
    },
    {
      "cell_type": "code",
      "metadata": {
        "id": "YcM20RqGiJxv",
        "colab_type": "code",
        "colab": {
          "base_uri": "https://localhost:8080/",
          "height": 50
        },
        "outputId": "3a3fa255-8f39-4913-f838-c87634db6faa"
      },
      "source": [
        "model.evaluate(X_test, y_test)"
      ],
      "execution_count": 24,
      "outputs": [
        {
          "output_type": "stream",
          "text": [
            "10000/10000 [==============================] - 1s 83us/step\n"
          ],
          "name": "stdout"
        },
        {
          "output_type": "execute_result",
          "data": {
            "text/plain": [
              "[0.2980619600057602, 0.8892999887466431]"
            ]
          },
          "metadata": {
            "tags": []
          },
          "execution_count": 24
        }
      ]
    },
    {
      "cell_type": "markdown",
      "metadata": {
        "id": "c3hkwZ8Qit5R",
        "colab_type": "text"
      },
      "source": [
        "**Confusion Matrix & Classification Report**"
      ]
    },
    {
      "cell_type": "code",
      "metadata": {
        "id": "HrYJXxtGig_S",
        "colab_type": "code",
        "colab": {}
      },
      "source": [
        "from sklearn.metrics import confusion_matrix, classification_report"
      ],
      "execution_count": 25,
      "outputs": []
    },
    {
      "cell_type": "code",
      "metadata": {
        "id": "76emcEGLkF4U",
        "colab_type": "code",
        "colab": {
          "base_uri": "https://localhost:8080/",
          "height": 665
        },
        "outputId": "b2658884-4b7d-4265-f33a-ba12afc39cf3"
      },
      "source": [
        "plt.figure(figsize=(12,10))\n",
        "y_pred_labels = [np.argmax(label) for label in y_pred]\n",
        "cm= confusion_matrix(y_test, y_pred_labels)\n",
        "sns.heatmap(cm, annot=True, fmt='d', cmap='PiYG',xticklabels=class_labels, yticklabels=class_labels)"
      ],
      "execution_count": 26,
      "outputs": [
        {
          "output_type": "execute_result",
          "data": {
            "text/plain": [
              "<matplotlib.axes._subplots.AxesSubplot at 0x7f52bfe59748>"
            ]
          },
          "metadata": {
            "tags": []
          },
          "execution_count": 26
        },
        {
          "output_type": "display_data",
          "data": {
            "image/png": "[encoded data removed]",
            "text/plain": [
              "<Figure size 864x720 with 2 Axes>"
            ]
          },
          "metadata": {
            "tags": [],
            "needs_background": "light"
          }
        }
      ]
    },
    {
      "cell_type": "code",
      "metadata": {
        "id": "5WIzPU77kknA",
        "colab_type": "code",
        "colab": {
          "base_uri": "https://localhost:8080/",
          "height": 302
        },
        "outputId": "a5ba0da3-dc42-438b-e13b-63f2d9332e94"
      },
      "source": [
        "cr = classification_report(y_test, y_pred_labels, target_names=class_labels)\n",
        "print(cr)"
      ],
      "execution_count": 27,
      "outputs": [
        {
          "output_type": "stream",
          "text": [
            "                precision    recall  f1-score   support\n",
            "\n",
            "0: T-Shirt/Top       0.85      0.81      0.83      1000\n",
            "    1: Trouser       0.98      0.97      0.98      1000\n",
            "   2: Pullover       0.82      0.83      0.82      1000\n",
            "      3: Dress       0.84      0.93      0.88      1000\n",
            "       4: Coat       0.85      0.81      0.83      1000\n",
            "     5: Sandal       0.97      0.98      0.97      1000\n",
            "      6: Shirt       0.70      0.70      0.70      1000\n",
            "   7: Sneakers       0.94      0.96      0.95      1000\n",
            "        8: Bag       0.97      0.98      0.97      1000\n",
            " 9: Ankle Boot       0.97      0.94      0.96      1000\n",
            "\n",
            "      accuracy                           0.89     10000\n",
            "     macro avg       0.89      0.89      0.89     10000\n",
            "  weighted avg       0.89      0.89      0.89     10000\n",
            "\n"
          ],
          "name": "stdout"
        }
      ]
    },
    {
      "cell_type": "markdown",
      "metadata": {
        "id": "eQ1VUUl8mEon",
        "colab_type": "text"
      },
      "source": [
        "# Building Complex Model"
      ]
    },
    {
      "cell_type": "code",
      "metadata": {
        "id": "Dp6Bpy-9mD0q",
        "colab_type": "code",
        "colab": {}
      },
      "source": [
        "model = keras.models.Sequential([\n",
        "                         keras.layers.Conv2D(filters=32, kernel_size=3, strides=(1,1), padding='valid', activation='relu', input_shape=[28,28,1]),\n",
        "                         keras.layers.MaxPooling2D(pool_size=(2,2)),\n",
        "\n",
        "                         keras.layers.Conv2D(filters=64, kernel_size=3, strides=(2,2), padding='same', activation='relu', input_shape=[28,28,1]),\n",
        "                         keras.layers.MaxPooling2D(pool_size=(2,2)),\n",
        "\n",
        "                         keras.layers.Flatten(),\n",
        "\n",
        "                         keras.layers.Dense(units=128, activation='relu'),\n",
        "                         keras.layers.Dropout(0.25),\n",
        "\n",
        "                         keras.layers.Dense(units=256, activation='relu'),\n",
        "                         keras.layers.Dropout(0.25),\n",
        "                         \n",
        "                         keras.layers.Dense(units=128, activation='relu'),\n",
        "                         keras.layers.Dense(units=10, activation='softmax')\n",
        "])"
      ],
      "execution_count": 30,
      "outputs": []
    },
    {
      "cell_type": "code",
      "metadata": {
        "id": "F8UgTuKqmD4S",
        "colab_type": "code",
        "colab": {
          "base_uri": "https://localhost:8080/",
          "height": 521
        },
        "outputId": "f160d28f-10cd-4000-aa23-50a72f4973d7"
      },
      "source": [
        "model.summary()"
      ],
      "execution_count": 31,
      "outputs": [
        {
          "output_type": "stream",
          "text": [
            "Model: \"sequential_3\"\n",
            "_________________________________________________________________\n",
            "Layer (type)                 Output Shape              Param #   \n",
            "=================================================================\n",
            "conv2d_3 (Conv2D)            (None, 26, 26, 32)        320       \n",
            "_________________________________________________________________\n",
            "max_pooling2d_3 (MaxPooling2 (None, 13, 13, 32)        0         \n",
            "_________________________________________________________________\n",
            "conv2d_4 (Conv2D)            (None, 7, 7, 64)          18496     \n",
            "_________________________________________________________________\n",
            "max_pooling2d_4 (MaxPooling2 (None, 3, 3, 64)          0         \n",
            "_________________________________________________________________\n",
            "flatten_3 (Flatten)          (None, 576)               0         \n",
            "_________________________________________________________________\n",
            "dense_5 (Dense)              (None, 128)               73856     \n",
            "_________________________________________________________________\n",
            "dropout_1 (Dropout)          (None, 128)               0         \n",
            "_________________________________________________________________\n",
            "dense_6 (Dense)              (None, 256)               33024     \n",
            "_________________________________________________________________\n",
            "dropout_2 (Dropout)          (None, 256)               0         \n",
            "_________________________________________________________________\n",
            "dense_7 (Dense)              (None, 128)               32896     \n",
            "_________________________________________________________________\n",
            "dense_8 (Dense)              (None, 10)                1290      \n",
            "=================================================================\n",
            "Total params: 159,882\n",
            "Trainable params: 159,882\n",
            "Non-trainable params: 0\n",
            "_________________________________________________________________\n"
          ],
          "name": "stdout"
        }
      ]
    },
    {
      "cell_type": "code",
      "metadata": {
        "id": "U4NrJCd9mD7b",
        "colab_type": "code",
        "colab": {}
      },
      "source": [
        "#Compile the Model\n",
        "model.compile(optimizer='adam', loss='sparse_categorical_crossentropy', metrics=['accuracy'])"
      ],
      "execution_count": 32,
      "outputs": []
    },
    {
      "cell_type": "code",
      "metadata": {
        "id": "8NjsJCKImD_W",
        "colab_type": "code",
        "colab": {
          "base_uri": "https://localhost:8080/",
          "height": 1000
        },
        "outputId": "9b5f0f94-b712-4059-d4d6-24d6e483edfb"
      },
      "source": [
        "#Train the Model\n",
        "model.fit(X_train, y_train, epochs=50, batch_size=1000, verbose=1, validation_data=(X_val, y_val))"
      ],
      "execution_count": 35,
      "outputs": [
        {
          "output_type": "stream",
          "text": [
            "Train on 48000 samples, validate on 12000 samples\n",
            "Epoch 1/50\n",
            "48000/48000 [==============================] - 2s 38us/step - loss: 0.2316 - accuracy: 0.9143 - val_loss: 0.2599 - val_accuracy: 0.9047\n",
            "Epoch 2/50\n",
            "48000/48000 [==============================] - 2s 35us/step - loss: 0.2285 - accuracy: 0.9168 - val_loss: 0.2562 - val_accuracy: 0.9078\n",
            "Epoch 3/50\n",
            "48000/48000 [==============================] - 2s 35us/step - loss: 0.2254 - accuracy: 0.9179 - val_loss: 0.2544 - val_accuracy: 0.9082\n",
            "Epoch 4/50\n",
            "48000/48000 [==============================] - 2s 35us/step - loss: 0.2209 - accuracy: 0.9171 - val_loss: 0.2570 - val_accuracy: 0.9059\n",
            "Epoch 5/50\n",
            "48000/48000 [==============================] - 2s 34us/step - loss: 0.2181 - accuracy: 0.9177 - val_loss: 0.2585 - val_accuracy: 0.9045\n",
            "Epoch 6/50\n",
            "48000/48000 [==============================] - 2s 35us/step - loss: 0.2086 - accuracy: 0.9228 - val_loss: 0.2526 - val_accuracy: 0.9069\n",
            "Epoch 7/50\n",
            "48000/48000 [==============================] - 2s 35us/step - loss: 0.2015 - accuracy: 0.9261 - val_loss: 0.2506 - val_accuracy: 0.9063\n",
            "Epoch 8/50\n",
            "48000/48000 [==============================] - 2s 35us/step - loss: 0.2013 - accuracy: 0.9262 - val_loss: 0.2617 - val_accuracy: 0.9043\n",
            "Epoch 9/50\n",
            "48000/48000 [==============================] - 2s 35us/step - loss: 0.1980 - accuracy: 0.9273 - val_loss: 0.2491 - val_accuracy: 0.9083\n",
            "Epoch 10/50\n",
            "48000/48000 [==============================] - 2s 34us/step - loss: 0.1908 - accuracy: 0.9284 - val_loss: 0.2463 - val_accuracy: 0.9100\n",
            "Epoch 11/50\n",
            "48000/48000 [==============================] - 2s 34us/step - loss: 0.1908 - accuracy: 0.9305 - val_loss: 0.2516 - val_accuracy: 0.9088\n",
            "Epoch 12/50\n",
            "48000/48000 [==============================] - 2s 35us/step - loss: 0.1874 - accuracy: 0.9315 - val_loss: 0.2520 - val_accuracy: 0.9085\n",
            "Epoch 13/50\n",
            "48000/48000 [==============================] - 2s 35us/step - loss: 0.1799 - accuracy: 0.9329 - val_loss: 0.2564 - val_accuracy: 0.9106\n",
            "Epoch 14/50\n",
            "48000/48000 [==============================] - 2s 35us/step - loss: 0.1772 - accuracy: 0.9338 - val_loss: 0.2512 - val_accuracy: 0.9112\n",
            "Epoch 15/50\n",
            "48000/48000 [==============================] - 2s 35us/step - loss: 0.1720 - accuracy: 0.9372 - val_loss: 0.2497 - val_accuracy: 0.9118\n",
            "Epoch 16/50\n",
            "48000/48000 [==============================] - 2s 35us/step - loss: 0.1687 - accuracy: 0.9366 - val_loss: 0.2621 - val_accuracy: 0.9082\n",
            "Epoch 17/50\n",
            "48000/48000 [==============================] - 2s 34us/step - loss: 0.1647 - accuracy: 0.9388 - val_loss: 0.2534 - val_accuracy: 0.9097\n",
            "Epoch 18/50\n",
            "48000/48000 [==============================] - 2s 35us/step - loss: 0.1657 - accuracy: 0.9377 - val_loss: 0.2461 - val_accuracy: 0.9108\n",
            "Epoch 19/50\n",
            "48000/48000 [==============================] - 2s 35us/step - loss: 0.1601 - accuracy: 0.9419 - val_loss: 0.2628 - val_accuracy: 0.9115\n",
            "Epoch 20/50\n",
            "48000/48000 [==============================] - 2s 35us/step - loss: 0.1560 - accuracy: 0.9430 - val_loss: 0.2501 - val_accuracy: 0.9115\n",
            "Epoch 21/50\n",
            "48000/48000 [==============================] - 2s 35us/step - loss: 0.1530 - accuracy: 0.9428 - val_loss: 0.2530 - val_accuracy: 0.9110\n",
            "Epoch 22/50\n",
            "48000/48000 [==============================] - 2s 34us/step - loss: 0.1479 - accuracy: 0.9444 - val_loss: 0.2571 - val_accuracy: 0.9103\n",
            "Epoch 23/50\n",
            "48000/48000 [==============================] - 2s 34us/step - loss: 0.1474 - accuracy: 0.9456 - val_loss: 0.2526 - val_accuracy: 0.9130\n",
            "Epoch 24/50\n",
            "48000/48000 [==============================] - 2s 34us/step - loss: 0.1427 - accuracy: 0.9474 - val_loss: 0.2690 - val_accuracy: 0.9098\n",
            "Epoch 25/50\n",
            "48000/48000 [==============================] - 2s 34us/step - loss: 0.1388 - accuracy: 0.9492 - val_loss: 0.2715 - val_accuracy: 0.9080\n",
            "Epoch 26/50\n",
            "48000/48000 [==============================] - 2s 35us/step - loss: 0.1364 - accuracy: 0.9496 - val_loss: 0.2634 - val_accuracy: 0.9113\n",
            "Epoch 27/50\n",
            "48000/48000 [==============================] - 2s 35us/step - loss: 0.1329 - accuracy: 0.9509 - val_loss: 0.2613 - val_accuracy: 0.9145\n",
            "Epoch 28/50\n",
            "48000/48000 [==============================] - 2s 35us/step - loss: 0.1305 - accuracy: 0.9510 - val_loss: 0.2665 - val_accuracy: 0.9117\n",
            "Epoch 29/50\n",
            "48000/48000 [==============================] - 2s 34us/step - loss: 0.1344 - accuracy: 0.9497 - val_loss: 0.2705 - val_accuracy: 0.9083\n",
            "Epoch 30/50\n",
            "48000/48000 [==============================] - 2s 35us/step - loss: 0.1275 - accuracy: 0.9532 - val_loss: 0.2625 - val_accuracy: 0.9130\n",
            "Epoch 31/50\n",
            "48000/48000 [==============================] - 2s 35us/step - loss: 0.1236 - accuracy: 0.9541 - val_loss: 0.2798 - val_accuracy: 0.9114\n",
            "Epoch 32/50\n",
            "48000/48000 [==============================] - 2s 35us/step - loss: 0.1217 - accuracy: 0.9548 - val_loss: 0.2707 - val_accuracy: 0.9123\n",
            "Epoch 33/50\n",
            "48000/48000 [==============================] - 2s 35us/step - loss: 0.1186 - accuracy: 0.9555 - val_loss: 0.2735 - val_accuracy: 0.9127\n",
            "Epoch 34/50\n",
            "48000/48000 [==============================] - 2s 35us/step - loss: 0.1146 - accuracy: 0.9576 - val_loss: 0.2790 - val_accuracy: 0.9104\n",
            "Epoch 35/50\n",
            "48000/48000 [==============================] - 2s 35us/step - loss: 0.1170 - accuracy: 0.9561 - val_loss: 0.2844 - val_accuracy: 0.9119\n",
            "Epoch 36/50\n",
            "48000/48000 [==============================] - 2s 34us/step - loss: 0.1159 - accuracy: 0.9560 - val_loss: 0.2822 - val_accuracy: 0.9133\n",
            "Epoch 37/50\n",
            "48000/48000 [==============================] - 2s 34us/step - loss: 0.1078 - accuracy: 0.9604 - val_loss: 0.2824 - val_accuracy: 0.9115\n",
            "Epoch 38/50\n",
            "48000/48000 [==============================] - 2s 35us/step - loss: 0.1053 - accuracy: 0.9607 - val_loss: 0.2796 - val_accuracy: 0.9160\n",
            "Epoch 39/50\n",
            "48000/48000 [==============================] - 2s 34us/step - loss: 0.1020 - accuracy: 0.9615 - val_loss: 0.2910 - val_accuracy: 0.9128\n",
            "Epoch 40/50\n",
            "48000/48000 [==============================] - 2s 36us/step - loss: 0.0991 - accuracy: 0.9628 - val_loss: 0.2880 - val_accuracy: 0.9155\n",
            "Epoch 41/50\n",
            "48000/48000 [==============================] - 2s 36us/step - loss: 0.0969 - accuracy: 0.9638 - val_loss: 0.3133 - val_accuracy: 0.9074\n",
            "Epoch 42/50\n",
            "48000/48000 [==============================] - 2s 36us/step - loss: 0.1046 - accuracy: 0.9609 - val_loss: 0.2902 - val_accuracy: 0.9133\n",
            "Epoch 43/50\n",
            "48000/48000 [==============================] - 2s 35us/step - loss: 0.0901 - accuracy: 0.9662 - val_loss: 0.3080 - val_accuracy: 0.9135\n",
            "Epoch 44/50\n",
            "48000/48000 [==============================] - 2s 36us/step - loss: 0.0909 - accuracy: 0.9662 - val_loss: 0.3101 - val_accuracy: 0.9137\n",
            "Epoch 45/50\n",
            "48000/48000 [==============================] - 2s 35us/step - loss: 0.0921 - accuracy: 0.9657 - val_loss: 0.3044 - val_accuracy: 0.9119\n",
            "Epoch 46/50\n",
            "48000/48000 [==============================] - 2s 35us/step - loss: 0.0894 - accuracy: 0.9668 - val_loss: 0.3046 - val_accuracy: 0.9151\n",
            "Epoch 47/50\n",
            "48000/48000 [==============================] - 2s 35us/step - loss: 0.0877 - accuracy: 0.9665 - val_loss: 0.3100 - val_accuracy: 0.9138\n",
            "Epoch 48/50\n",
            "48000/48000 [==============================] - 2s 35us/step - loss: 0.0923 - accuracy: 0.9656 - val_loss: 0.3108 - val_accuracy: 0.9147\n",
            "Epoch 49/50\n",
            "48000/48000 [==============================] - 2s 35us/step - loss: 0.0854 - accuracy: 0.9680 - val_loss: 0.3198 - val_accuracy: 0.9123\n",
            "Epoch 50/50\n",
            "48000/48000 [==============================] - 2s 35us/step - loss: 0.0849 - accuracy: 0.9684 - val_loss: 0.3059 - val_accuracy: 0.9134\n"
          ],
          "name": "stdout"
        },
        {
          "output_type": "execute_result",
          "data": {
            "text/plain": [
              "<keras.callbacks.callbacks.History at 0x7f52c1bed908>"
            ]
          },
          "metadata": {
            "tags": []
          },
          "execution_count": 35
        }
      ]
    },
    {
      "cell_type": "code",
      "metadata": {
        "id": "VXkjzp2gnCV0",
        "colab_type": "code",
        "colab": {
          "base_uri": "https://localhost:8080/",
          "height": 50
        },
        "outputId": "7adfa503-4701-4147-a7a8-3864d4c2187d"
      },
      "source": [
        "#Evaluate the Model\n",
        "model.evaluate(X_test, y_test)"
      ],
      "execution_count": 36,
      "outputs": [
        {
          "output_type": "stream",
          "text": [
            "10000/10000 [==============================] - 1s 96us/step\n"
          ],
          "name": "stdout"
        },
        {
          "output_type": "execute_result",
          "data": {
            "text/plain": [
              "[0.33876899072527883, 0.9074000120162964]"
            ]
          },
          "metadata": {
            "tags": []
          },
          "execution_count": 36
        }
      ]
    },
    {
      "cell_type": "code",
      "metadata": {
        "id": "BrsoJW9HnCuf",
        "colab_type": "code",
        "colab": {
          "base_uri": "https://localhost:8080/",
          "height": 302
        },
        "outputId": "6dc29584-f34e-409a-837f-9a7bb33d4eb0"
      },
      "source": [
        "#Confusion Matrix & Classification Report\n",
        "cr = classification_report(y_test, y_pred_labels, target_names=class_labels)\n",
        "print(cr)"
      ],
      "execution_count": 38,
      "outputs": [
        {
          "output_type": "stream",
          "text": [
            "                precision    recall  f1-score   support\n",
            "\n",
            "0: T-Shirt/Top       0.85      0.81      0.83      1000\n",
            "    1: Trouser       0.98      0.97      0.98      1000\n",
            "   2: Pullover       0.82      0.83      0.82      1000\n",
            "      3: Dress       0.84      0.93      0.88      1000\n",
            "       4: Coat       0.85      0.81      0.83      1000\n",
            "     5: Sandal       0.97      0.98      0.97      1000\n",
            "      6: Shirt       0.70      0.70      0.70      1000\n",
            "   7: Sneakers       0.94      0.96      0.95      1000\n",
            "        8: Bag       0.97      0.98      0.97      1000\n",
            " 9: Ankle Boot       0.97      0.94      0.96      1000\n",
            "\n",
            "      accuracy                           0.89     10000\n",
            "     macro avg       0.89      0.89      0.89     10000\n",
            "  weighted avg       0.89      0.89      0.89     10000\n",
            "\n"
          ],
          "name": "stdout"
        }
      ]
    },
    {
      "cell_type": "markdown",
      "metadata": {
        "id": "x5sjG53PoxoW",
        "colab_type": "text"
      },
      "source": [
        "**Save Model**"
      ]
    },
    {
      "cell_type": "code",
      "metadata": {
        "id": "5bUdJYW-nKIc",
        "colab_type": "code",
        "colab": {}
      },
      "source": [
        "model.save('fashion_MNIST_Classification_CNN.h5')"
      ],
      "execution_count": 39,
      "outputs": []
    },
    {
      "cell_type": "code",
      "metadata": {
        "id": "ZPKq1M9vpNFs",
        "colab_type": "code",
        "colab": {}
      },
      "source": [
        ""
      ],
      "execution_count": null,
      "outputs": []
    }
  ]
}